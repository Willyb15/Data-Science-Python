{
 "cells": [
  {
   "cell_type": "markdown",
   "metadata": {},
   "source": [
    "# Object-Oriented Programming (OOP)\n",
    "\n",
    "### What is it?\n",
    "\n",
    "Wikipedia defines an object as the following:\n",
    "\n",
    "* In computer science, an object can be a variable, a data structure, a function, or a method, and as such, is a location in memory having a value and referenced by an identifier.\n",
    "\n",
    "* In the class-based object-oriented programming paradigm, \"object\" refers to a particular instance of a class where the object can be a combination of variables, functions, and data structures.\n",
    "\n",
    "The former definition should be fairly familiar to you, even if you haven't heard the term \"object\" before.  The variables and data structures you create are stored away in memory somewhere and you - the lucky Python programmer - don't have to worry about any of those details."
   ]
  },
  {
   "cell_type": "code",
   "execution_count": 2,
   "metadata": {},
   "outputs": [
    {
     "name": "stdout",
     "output_type": "stream",
     "text": [
      "10 is located in memory at 1417434208\n",
      "15.5 is located in memory at 1903319348568\n",
      "I am C is located in memory at 1903320164536\n",
      "['A List Of', 3, 'Items'] is located in memory at 1903318693320\n"
     ]
    }
   ],
   "source": [
    "a = 10\n",
    "b = 15.5\n",
    "c = \"I am C\"\n",
    "d = [\"A List Of\", 3, \"Items\"]\n",
    "\n",
    "for letter in [a,b,c,d]:\n",
    "    print(\"{} is located in memory at {}\".format(letter, id(letter)))"
   ]
  },
  {
   "cell_type": "markdown",
   "metadata": {},
   "source": [
    "The items created above are all objects stored in memory somewhere, and the id function can be used to find their location in memory.  As an aside, the memory location is what is compared when you use the \"is\" operator."
   ]
  },
  {
   "cell_type": "code",
   "execution_count": 3,
   "metadata": {},
   "outputs": [
    {
     "name": "stdout",
     "output_type": "stream",
     "text": [
      "My list's id is 1903319174600\n",
      "Your list's id is 1903319174600\n",
      "My list copy's id is 1903319174984\n",
      "\n",
      "My list is your list?  True\n",
      "My list is my list copy?  False\n"
     ]
    }
   ],
   "source": [
    "my_list = [1,2,3,4]\n",
    "your_list = my_list\n",
    "my_list_copy = my_list.copy()\n",
    "\n",
    "print(\"My list's id is {}\".format(id(my_list)))\n",
    "print(\"Your list's id is {}\".format(id(your_list)))\n",
    "print(\"My list copy's id is {}\".format(id(my_list_copy)))\n",
    "print()\n",
    "\n",
    "print(\"My list is your list? \", my_list is your_list)\n",
    "print(\"My list is my list copy? \", my_list is my_list_copy)"
   ]
  },
  {
   "cell_type": "markdown",
   "metadata": {},
   "source": [
    "Having multiple variable names point to the same object means that you can have situations like this:"
   ]
  },
  {
   "cell_type": "code",
   "execution_count": 4,
   "metadata": {},
   "outputs": [
    {
     "name": "stdout",
     "output_type": "stream",
     "text": [
      "After appending to your_list\n",
      "My list:  [1, 2, 3, 4, 5]\n",
      "\n",
      "After appending to my_list_copy\n",
      "My list:  [1, 2, 3, 4, 5]\n",
      "My list copy:  [1, 2, 3, 4, 6]\n"
     ]
    }
   ],
   "source": [
    "your_list.append(5)\n",
    "print(\"After appending to your_list\")\n",
    "print(\"My list: \", my_list)\n",
    "print()\n",
    "\n",
    "my_list_copy.append(6)\n",
    "print(\"After appending to my_list_copy\")\n",
    "print(\"My list: \", my_list)\n",
    "print(\"My list copy: \", my_list_copy)"
   ]
  },
  {
   "cell_type": "markdown",
   "metadata": {},
   "source": [
    "So `object` can refer to these memory locations under the hood of Python, but today we're more interested in the second definition:  An `object` is an instantiation of a `class`.\n",
    "\n",
    "A common way to think of a class is as a blueprint:  Just like how a blueprint describes the design of a house, so too does a class describe what an object should have (`attributes`), and what things it should be able to do (`methods`).  \n",
    "\n",
    "For example, there could be a class `Dog` which might have a `dog_breed` attribute and a `bark` method.  Then a `Dog` object could be Rin Tin Tin or Air Bud."
   ]
  },
  {
   "cell_type": "markdown",
   "metadata": {},
   "source": [
    "You probably didn't realize it, but you've been using this definition of object the whole time as well!  Almost everything in Python is an object:  Numbers, strings, lists; you name it!"
   ]
  },
  {
   "cell_type": "code",
   "execution_count": 5,
   "metadata": {},
   "outputs": [
    {
     "name": "stdout",
     "output_type": "stream",
     "text": [
      "Is 5 an object?  True\n",
      "Is 'meow?' an object?  True\n",
      "Are lists objects?  True\n"
     ]
    }
   ],
   "source": [
    "print(\"Is 5 an object? \", isinstance(5, object))\n",
    "print(\"Is 'meow?' an object? \", isinstance(\"meow?\", object))\n",
    "print(\"Are lists objects? \", isinstance([], object))"
   ]
  },
  {
   "cell_type": "markdown",
   "metadata": {},
   "source": [
    "`isinstance(item, class)` checks to see if the supplied item is an instance of class or one of class' descendents.  Since everything is an object in Python, everything inherits from object, the mother of all classes!"
   ]
  },
  {
   "cell_type": "markdown",
   "metadata": {},
   "source": [
    "#### Attributes\n",
    "\n",
    "Attributes are used to store data that the object needs to keep track of.  For example, a `BankAccount` class would likely need to know its unique account number, as well as its balance.  An example of a bank account class with these attributes is below:"
   ]
  },
  {
   "cell_type": "code",
   "execution_count": 7,
   "metadata": {},
   "outputs": [
    {
     "name": "stdout",
     "output_type": "stream",
     "text": [
      "Account number: 123\n",
      "Balance: $1,000, Acct_no: 123\n"
     ]
    }
   ],
   "source": [
    "class BankAccount:\n",
    "    def __init__(self, acct_num, balance):\n",
    "        self.acct_num = acct_num\n",
    "        self.balance = balance\n",
    "\n",
    "my_acct = BankAccount(123, 1000)\n",
    "print(\"Account number: {}\".format(my_acct.acct_num))\n",
    "print(\"Balance: ${balance:,}, Acct_no: {acct_no}\".format(acct_no = my_acct.acct_num, balance = my_acct.balance))"
   ]
  },
  {
   "cell_type": "markdown",
   "metadata": {},
   "source": [
    "You will generally find that most of your interaction with classes will be by using methods.  Attributes are more commonly used internally by the class, with methods being defined to get those values if a user needs them.  These methods are called **getter** and **setter** methods, which generally retrieve an attribute's value, or assign it.\n",
    "\n",
    "If you think of the context of a list, Python provides you a convenient syntax to get and set the value of a specific item (these are methods), but not for accessing the underlying data structure (those are hidden attributes)."
   ]
  },
  {
   "cell_type": "markdown",
   "metadata": {},
   "source": [
    "**Note..** A stylistic point that is easy to miss:  In Python, functions are usually named using *snake_case*, while classes are named with *CamelCase*.  Additionally, a function's name should describe what it does, while a class' name should describe what it represents."
   ]
  },
  {
   "cell_type": "markdown",
   "metadata": {},
   "source": [
    "#### Methods\n",
    "\n",
    "The class above also uses the `def` keyword, like with a function declaration.  Methods are just functions which are attached to a class.  The `__init__` method is a special method called a **constructor**, which is the method that is always called when you instantiate an object.  We will cover special methods like `__init__` more during our next meeting.\n",
    "\n",
    "Let's add a few methods to our BankAccount class:"
   ]
  },
  {
   "cell_type": "code",
   "execution_count": 8,
   "metadata": {},
   "outputs": [
    {
     "name": "stdout",
     "output_type": "stream",
     "text": [
      "Account number 123 has a balance of $1,000\n",
      "\n",
      "Depositing $20\n",
      "Account number 123 has a balance of $1,020\n",
      "Account number 999 has a balance of $100,000\n",
      "Account number 999 has a balance of $1e+50\n",
      "Account number 123 has a balance of $1,020\n"
     ]
    }
   ],
   "source": [
    "class BankAccount:\n",
    "    def __init__(self, acct_num, balance):\n",
    "        self.acct_num = acct_num\n",
    "        self.balance = balance\n",
    "        \n",
    "    def check_balance(self):\n",
    "        return \"Account number {} has a balance of ${:,}\".format(self.acct_num, self.balance)\n",
    "    \n",
    "    def deposit(self, amount):\n",
    "        self.balance += amount\n",
    "    \n",
    "my_acct = BankAccount(123, 1000)\n",
    "print(my_acct.check_balance())\n",
    "print()\n",
    "\n",
    "print(\"Depositing $20\")\n",
    "my_acct.deposit(20)\n",
    "print(my_acct.check_balance())\n",
    "\n",
    "my_acct2 = BankAccount(999, 100000)\n",
    "print(my_acct2.check_balance())\n",
    "my_acct2.deposit(1e50)\n",
    "print(my_acct2.check_balance())\n",
    "print(my_acct.check_balance())"
   ]
  },
  {
   "cell_type": "markdown",
   "metadata": {},
   "source": [
    "One thing that students always get confused by is the *self* keyword.  It's important to remember that *self* is basically a placeholder for the specific object which is calling the method.  In the above example, when we call `my_acct.deposit(20)`, the deposit method is adding 20 to `my_acct.balance`."
   ]
  },
  {
   "cell_type": "markdown",
   "metadata": {},
   "source": [
    "## Some more examples"
   ]
  },
  {
   "cell_type": "code",
   "execution_count": 9,
   "metadata": {},
   "outputs": [
    {
     "data": {
      "text/plain": [
       "9"
      ]
     },
     "execution_count": 9,
     "metadata": {},
     "output_type": "execute_result"
    }
   ],
   "source": [
    "#Class for rolling multiple dice and \n",
    "#then applying a strategy to the result (sum, max, min, etc.)\n",
    "from random import randint\n",
    "\n",
    "class Dice:\n",
    "    def __init__(self, *sides, strategy = sum):\n",
    "        self.sides = sides\n",
    "        self.strategy = strategy\n",
    "\n",
    "    def roll(self):\n",
    "        return self.strategy([randint(1, side) for side in self.sides])\n",
    "\n",
    "three_d6 = Dice(6,6,6)\n",
    "three_d6.roll()"
   ]
  },
  {
   "cell_type": "code",
   "execution_count": 10,
   "metadata": {},
   "outputs": [
    {
     "data": {
      "text/plain": [
       "2"
      ]
     },
     "execution_count": 10,
     "metadata": {},
     "output_type": "execute_result"
    }
   ],
   "source": [
    "two_d20 = Dice(20, 20, strategy = max)\n",
    "two_d20.roll()"
   ]
  },
  {
   "cell_type": "code",
   "execution_count": 11,
   "metadata": {},
   "outputs": [
    {
     "data": {
      "text/plain": [
       "[5, 2]"
      ]
     },
     "execution_count": 11,
     "metadata": {},
     "output_type": "execute_result"
    }
   ],
   "source": [
    "top_two = Dice(6,6,6, strategy = lambda x: sorted(x, reverse = True)[:2])\n",
    "top_two.roll()"
   ]
  },
  {
   "cell_type": "code",
   "execution_count": 12,
   "metadata": {
    "collapsed": true
   },
   "outputs": [],
   "source": [
    "from other_dice import Die, BinomialDie, PoissonDie\n",
    "\n",
    "normal_die = Die()\n",
    "binomial_die = BinomialDie()\n",
    "poisson_die = PoissonDie()\n",
    "\n",
    "bag_of_dice = [normal_die, binomial_die, poisson_die]\n",
    "random_die = bag_of_dice[randint(0,2)]"
   ]
  },
  {
   "cell_type": "code",
   "execution_count": 13,
   "metadata": {},
   "outputs": [
    {
     "data": {
      "text/plain": [
       "3     2151\n",
       "4     1958\n",
       "2     1812\n",
       "5     1296\n",
       "1     1052\n",
       "6      766\n",
       "7      387\n",
       "0      307\n",
       "8      172\n",
       "9       61\n",
       "10      28\n",
       "11       8\n",
       "13       1\n",
       "12       1\n",
       "dtype: int64"
      ]
     },
     "execution_count": 13,
     "metadata": {},
     "output_type": "execute_result"
    }
   ],
   "source": [
    "import pandas as pd\n",
    "#We can examine the randomly chosen die to try to determine which one got picked!\n",
    "pd.Series([random_die.roll() for _ in range(10000)]).value_counts()"
   ]
  },
  {
   "cell_type": "markdown",
   "metadata": {},
   "source": [
    "## Build a class together!"
   ]
  },
  {
   "cell_type": "code",
   "execution_count": 14,
   "metadata": {},
   "outputs": [
    {
     "data": {
      "text/plain": [
       "'Disappointment'"
      ]
     },
     "execution_count": 14,
     "metadata": {},
     "output_type": "execute_result"
    }
   ],
   "source": [
    "import pandas as pd\n",
    "\n",
    "#Our class will go here:\n",
    "class BagOfChips:\n",
    "    def __init__(self, flavor, num_chips, mfg_date):\n",
    "        self.flavor = flavor\n",
    "        self.num_chips = num_chips\n",
    "        self.mfg_date = mfg_date\n",
    "        self.is_open = False\n",
    "        \n",
    "    def open_chips(self):\n",
    "        self.is_open = True\n",
    "        staleness = pd.datetime.now() - self.mfg_date \n",
    "        if staleness.days > 365:\n",
    "            return \"Disappointment\"\n",
    "        else:\n",
    "            return \"Happy!\"\n",
    "    \n",
    "    def crumple(self, crumple_force = 2):\n",
    "        self.num_chips *= crumple_force\n",
    "        if crumple_force > 10:\n",
    "            return self.open_chips()\n",
    "        return self.num_chips\n",
    "\n",
    "lays_oven_baked = BagOfChips(\"Original\", 20, pd.to_datetime(\"01-16-2016\"))\n",
    "lays_oven_baked.crumple(50)"
   ]
  },
  {
   "cell_type": "markdown",
   "metadata": {},
   "source": [
    "## But why use objects?\n",
    "\n",
    "Object-oriented programming has three tenets:  Inheritance, Polymorphism, and Encapsulation."
   ]
  },
  {
   "cell_type": "markdown",
   "metadata": {},
   "source": [
    "#### Inheritance\n",
    "\n",
    "Many objects, both real-world and man-made, fit well within a hierarchical structure.  For example, Red Foxes are in the genus Vulpes (foxes), the family Canidae (dogs, wolves, jackals, foxes), the order Carnivora (carnivores), the class Mammalia... you get the picture.  Red Foxes \"inherit\" characteristics from all the levels above them.  You can do the same thing in Python, though this practice is not used very often.\n",
    "\n",
    "Here's an example of inheritance with our BankAccount class.  The class to inherit from is placed in parentheses after the class name.  As we mentioned earlier, everything in Python is an object, so all classes implicitly inherit from `object`."
   ]
  },
  {
   "cell_type": "code",
   "execution_count": 15,
   "metadata": {},
   "outputs": [
    {
     "name": "stdout",
     "output_type": "stream",
     "text": [
      "Account number 102 has a balance of $1,000\n",
      "\n",
      "Wrote a check for $50\n",
      "Account number 102 has a balance of $950\n",
      "Wrote a check for $5000\n"
     ]
    },
    {
     "ename": "ValueError",
     "evalue": "Check bounced!",
     "output_type": "error",
     "traceback": [
      "\u001b[1;31m---------------------------------------------------------------------------\u001b[0m",
      "\u001b[1;31mValueError\u001b[0m                                Traceback (most recent call last)",
      "\u001b[1;32m<ipython-input-15-f8a3f247bc77>\u001b[0m in \u001b[0;36m<module>\u001b[1;34m()\u001b[0m\n\u001b[0;32m     15\u001b[0m \u001b[1;33m\u001b[0m\u001b[0m\n\u001b[0;32m     16\u001b[0m \u001b[0mprint\u001b[0m\u001b[1;33m(\u001b[0m\u001b[1;34m\"Wrote a check for $5000\"\u001b[0m\u001b[1;33m)\u001b[0m\u001b[1;33m\u001b[0m\u001b[0m\n\u001b[1;32m---> 17\u001b[1;33m \u001b[0mmy_checking_account\u001b[0m\u001b[1;33m.\u001b[0m\u001b[0mclear_check\u001b[0m\u001b[1;33m(\u001b[0m\u001b[1;36m5000\u001b[0m\u001b[1;33m)\u001b[0m\u001b[1;33m\u001b[0m\u001b[0m\n\u001b[0m\u001b[0;32m     18\u001b[0m \u001b[0mprint\u001b[0m\u001b[1;33m(\u001b[0m\u001b[0mmy_checking_account\u001b[0m\u001b[1;33m.\u001b[0m\u001b[0mcheck_balance\u001b[0m\u001b[1;33m(\u001b[0m\u001b[1;33m)\u001b[0m\u001b[1;33m)\u001b[0m\u001b[1;33m\u001b[0m\u001b[0m\n",
      "\u001b[1;32m<ipython-input-15-f8a3f247bc77>\u001b[0m in \u001b[0;36mclear_check\u001b[1;34m(self, amount)\u001b[0m\n\u001b[0;32m      2\u001b[0m     \u001b[1;32mdef\u001b[0m \u001b[0mclear_check\u001b[0m\u001b[1;33m(\u001b[0m\u001b[0mself\u001b[0m\u001b[1;33m,\u001b[0m \u001b[0mamount\u001b[0m\u001b[1;33m)\u001b[0m\u001b[1;33m:\u001b[0m\u001b[1;33m\u001b[0m\u001b[0m\n\u001b[0;32m      3\u001b[0m         \u001b[1;32mif\u001b[0m \u001b[0mself\u001b[0m\u001b[1;33m.\u001b[0m\u001b[0mbalance\u001b[0m \u001b[1;33m<\u001b[0m \u001b[0mamount\u001b[0m\u001b[1;33m:\u001b[0m\u001b[1;33m\u001b[0m\u001b[0m\n\u001b[1;32m----> 4\u001b[1;33m             \u001b[1;32mraise\u001b[0m \u001b[0mValueError\u001b[0m\u001b[1;33m(\u001b[0m\u001b[1;34m\"Check bounced!\"\u001b[0m\u001b[1;33m)\u001b[0m\u001b[1;33m\u001b[0m\u001b[0m\n\u001b[0m\u001b[0;32m      5\u001b[0m         \u001b[1;32melse\u001b[0m\u001b[1;33m:\u001b[0m\u001b[1;33m\u001b[0m\u001b[0m\n\u001b[0;32m      6\u001b[0m             \u001b[0mself\u001b[0m\u001b[1;33m.\u001b[0m\u001b[0mbalance\u001b[0m \u001b[1;33m-=\u001b[0m \u001b[0mamount\u001b[0m\u001b[1;33m\u001b[0m\u001b[0m\n",
      "\u001b[1;31mValueError\u001b[0m: Check bounced!"
     ]
    }
   ],
   "source": [
    "class CheckingAccount(BankAccount):\n",
    "    def clear_check(self, amount):\n",
    "        if self.balance < amount:\n",
    "            raise ValueError(\"Check bounced!\")\n",
    "        else:\n",
    "            self.balance -= amount\n",
    "\n",
    "my_checking_account = CheckingAccount(102, 1000)\n",
    "print(my_checking_account.check_balance())\n",
    "print()\n",
    "\n",
    "print(\"Wrote a check for $50\")\n",
    "my_checking_account.clear_check(50)\n",
    "print(my_checking_account.check_balance())\n",
    "\n",
    "print(\"Wrote a check for $5000\")\n",
    "my_checking_account.clear_check(5000)\n",
    "print(my_checking_account.check_balance())"
   ]
  },
  {
   "cell_type": "markdown",
   "metadata": {},
   "source": [
    "Notice how the CheckingAccount class never defined the `check_balance` method, but we were still able to call it anyways.  This is because we inherited everything from the `BankAccount` class.\n",
    "\n",
    "Inheritance is cool, but as we said earlier it's not very commonly used.  You will probably never need to code your own classes with inheritance, even though the libraries you use probably will."
   ]
  },
  {
   "cell_type": "markdown",
   "metadata": {},
   "source": [
    "#### Polymorphism\n",
    "\n",
    "The next tenet of OOP is polymorphism.  Polymorphism is a Greek word meaning \"many forms,\" and it is the practice of allowing different things to be treated the same way.\n",
    "\n",
    "A really good example of polymorphism is the `sklearn` library.  `sklearn` is a machine learning library in Python which provides efficient and convenient implementations of many ML methods including Linear Regression, Random Forests, and Gradient Boosted Trees.\n",
    "\n",
    "The reason `sklearn` is so great is the consistency of how you interact with it, no matter what type of model you are building.  When you want to fit a model to your data, you call the .fit() method.  When you want to predict for some new data, you call the .predict() method.  That leads to the possibility of doing things like this:"
   ]
  },
  {
   "cell_type": "markdown",
   "metadata": {},
   "source": [
    "```python\n",
    "for model in list_of_models:\n",
    "    model.fit(X_train, y_train)\n",
    "    predictions = model.predict(X_test)\n",
    "    print(\"Accuracy for model {} is: {}\".format(model.name, calculate_accuracy(y_test, predictions)))\n",
    "```"
   ]
  },
  {
   "cell_type": "markdown",
   "metadata": {},
   "source": [
    "Under the hood, these different statistical models can operate *very* differently, but the user is given a very consistent way to interact with them, so the code is exactly the same!"
   ]
  },
  {
   "cell_type": "markdown",
   "metadata": {},
   "source": [
    "#### Encapsulation\n",
    "\n",
    "The biggest benefit OOP provides is that of abstraction and encapsulation.  Abstraction refers to the act of hiding the internal workings of a class.  The objects you've used up until now make heavy use of abstraction.  What really happens when you type `2 + 2`?  What does `my_list.append(item)` actually do?  You likely don't know... and you don't need to, thanks to abstraction!\n",
    "\n",
    "Encapsulation expands upon abstraction and additionally requires hiding away the complexities of the class from the user.  Users in this context means anything that communicates with the class, which could be a programmer or even another class.\n",
    "\n",
    "Encapsulating classes promotes two things crucial for good software engineering:  **Low coupling** and **high cohesion**.  Coupling refers to the degree of interconnectedness and interdependency between classes.  Cohesion refers to the degree of focus that a class has - a BankAccount class, for example, shouldn't contain code for how to interact with the ATM."
   ]
  },
  {
   "cell_type": "markdown",
   "metadata": {},
   "source": [
    "### Wrapping things up\n",
    "\n",
    "It's okay if you're a bit confused or unconvinced by the value of OOP.  Some people just don't like it; for others, it just takes time to get into the mindset of structuring your code proactively.  Either way, objects and classes are everywhere in Python, so in order to be an effective programmer you must be familiar with the paradigm."
   ]
  },
  {
   "cell_type": "markdown",
   "metadata": {
    "collapsed": true
   },
   "source": [
    "## Reference\n",
    "\n",
    "* **Inheritance** - When a class is based on another class, building off of the existing class to take advantage of existing behavior, while having additional specific behavior of its own.\n",
    "* **Encapsulation** - The practice of hiding the inner workings of our class, and only exposing what is necessary to the outside world. This idea is effectively the same as the idea of **abstraction**, and allows users of our classes to only care about the what (i.e. what our class can do) and not the how (i.e. how our class does what it does).\n",
    "* **Polymorphism** - The provision of a single interface to entities of different types. This enables us to use a shared interface for similar classes while at the same time still allowing each class to have its own specialized behavior.\n",
    "\n",
    "1. **Class** - Used to refer to the abstract concept of an object.\n",
    "2. **Object** - An actual instance of a class.\n",
    "3. **Instance** - What Python returns when you tell it to create a class.\n",
    "4. **Instantiation** - A fancy way of saying that we're going to create an instance of a class.\n",
    "5. **Constructor** - What we call to instantiate a class.\n",
    "6. **self** - Inside of a class, a variable for the instance/object being accessed (i.e. it holds a reference to the instance/object of that class).\n",
    "7. **attribute**/**property** - A piece of data that a class has, stored in a variable. Inside of a class definition, all attributes/fields/properties are accessed via `self.<attribute>`, while on an instance, they are accessed via `<variable name>.<attribute>`.\n",
    "8. **method** - A block of code that is accessible via the class, and typically acts on or with the classes' attributes/fields/properties. Inside of a class definition, all methods/procedures are created via `def` (they are really just functions), and accessible via `self.<method>()`, while on an instance, they are accessed via `<variable name>.<method>()`."
   ]
  },
  {
   "cell_type": "code",
   "execution_count": 16,
   "metadata": {},
   "outputs": [
    {
     "data": {
      "text/plain": [
       "[Quadratic(1, 2, 1), Quadratic(1, 2, 1), Quadratic(3, 6, 2)]"
      ]
     },
     "execution_count": 16,
     "metadata": {},
     "output_type": "execute_result"
    }
   ],
   "source": [
    "#Quadratic Equations Class -- Exploring __Magic__ Methods\n",
    "class Quadratic:\n",
    "    def __init__(self, x2, x1, constant):\n",
    "        self.x2 = x2\n",
    "        self.x1 = x1\n",
    "        self.constant = constant\n",
    "    \n",
    "    def __str__(self):\n",
    "        return \"{}X^2 + {}X^1 + {}\".format(self.x2, \n",
    "                                           self.x1, \n",
    "                                           self.constant)\n",
    "    \n",
    "    def __repr__(self):\n",
    "        return \"Quadratic({}, {}, {})\".format(self.x2,\n",
    "                                              self.x1,\n",
    "                                              self.constant)\n",
    "\n",
    "    def __add__(self, other):\n",
    "        return Quadratic(self.x2 + other.x2, \n",
    "                         self.x1 + other.x1, \n",
    "                         self.constant + other.constant)\n",
    "    \n",
    "    def solve(self, value):\n",
    "        return value ** 2 * self.x2 + value * self.x1 + self.constant\n",
    "    \n",
    "    def __eq__(self, other):\n",
    "        return all([self.x2 == other.x2, \n",
    "                    self.x1 == other.x1, \n",
    "                    self.constant == other.constant])\n",
    "    \n",
    "    def __lt__(self, other):\n",
    "        return self.x2 < other.x2\n",
    "\n",
    "my_eq = Quadratic(1,2,1)\n",
    "my_other_eq = Quadratic(1,2,1)\n",
    "your_eq = Quadratic(3, 6, 2)\n",
    "# print(my_eq)\n",
    "# print(your_eq)\n",
    "# print(my_eq + your_eq)\n",
    "# my_eq is my_other_eq\n",
    "equations = [your_eq, my_eq, my_other_eq]\n",
    "sorted(equations)"
   ]
  },
  {
   "cell_type": "code",
   "execution_count": 17,
   "metadata": {},
   "outputs": [
    {
     "ename": "TypeError",
     "evalue": "object of type 'Quadratic' has no len()",
     "output_type": "error",
     "traceback": [
      "\u001b[1;31m---------------------------------------------------------------------------\u001b[0m",
      "\u001b[1;31mTypeError\u001b[0m                                 Traceback (most recent call last)",
      "\u001b[1;32m<ipython-input-17-d252ff83a6d8>\u001b[0m in \u001b[0;36m<module>\u001b[1;34m()\u001b[0m\n\u001b[0;32m      1\u001b[0m \u001b[1;31m#Need to define __len__ method\u001b[0m\u001b[1;33m\u001b[0m\u001b[1;33m\u001b[0m\u001b[0m\n\u001b[1;32m----> 2\u001b[1;33m \u001b[0mlen\u001b[0m\u001b[1;33m(\u001b[0m\u001b[0mmy_eq\u001b[0m\u001b[1;33m)\u001b[0m\u001b[1;33m\u001b[0m\u001b[0m\n\u001b[0m",
      "\u001b[1;31mTypeError\u001b[0m: object of type 'Quadratic' has no len()"
     ]
    }
   ],
   "source": [
    "#Need to define __len__ method\n",
    "len(my_eq)"
   ]
  }
 ],
 "metadata": {
  "kernelspec": {
   "display_name": "Python [conda root]",
   "language": "python",
   "name": "conda-root-py"
  },
  "language_info": {
   "codemirror_mode": {
    "name": "ipython",
    "version": 3
   },
   "file_extension": ".py",
   "mimetype": "text/x-python",
   "name": "python",
   "nbconvert_exporter": "python",
   "pygments_lexer": "ipython3",
   "version": "3.5.4"
  }
 },
 "nbformat": 4,
 "nbformat_minor": 2
}
