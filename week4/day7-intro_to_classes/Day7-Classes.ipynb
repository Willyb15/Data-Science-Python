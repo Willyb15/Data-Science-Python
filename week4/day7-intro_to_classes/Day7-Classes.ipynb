{
 "cells": [
  {
   "cell_type": "markdown",
   "metadata": {},
   "source": [
    "# Object-Oriented Programming (OOP)\n",
    "\n",
    "### What is it?\n",
    "\n",
    "Wikipedia defines an object as the following:\n",
    "\n",
    "* In computer science, an object can be a variable, a data structure, a function, or a method, and as such, is a location in memory having a value and referenced by an identifier.\n",
    "\n",
    "* In the class-based object-oriented programming paradigm, \"object\" refers to a particular instance of a class where the object can be a combination of variables, functions, and data structures.\n",
    "\n",
    "The former definition should be fairly familiar to you, even if you haven't heard the term \"object\" before.  The variables and data structures you create are stored away in memory somewhere and you - the lucky Python programmer - don't have to worry about any of those details."
   ]
  },
  {
   "cell_type": "code",
   "execution_count": 5,
   "metadata": {},
   "outputs": [
    {
     "name": "stdout",
     "output_type": "stream",
     "text": [
      "10 is located in memory at 1414026336\n",
      "15.5 is located in memory at 2520841028976\n",
      "I am C is located in memory at 2520841925888\n",
      "['A List Of', 3, 'Items'] is located in memory at 2520840979400\n"
     ]
    }
   ],
   "source": [
    "a = 10\n",
    "b = 15.5\n",
    "c = \"I am C\"\n",
    "d = [\"A List Of\", 3, \"Items\"]\n",
    "\n",
    "for letter in [a,b,c,d]:\n",
    "    print(\"{} is located in memory at {}\".format(letter, id(letter)))"
   ]
  },
  {
   "cell_type": "markdown",
   "metadata": {},
   "source": [
    "The items created above are all objects stored in memory somewhere, and the id function can be used to find their location in memory.  As an aside, the memory location is what is compared when you use the \"is\" operator."
   ]
  },
  {
   "cell_type": "code",
   "execution_count": 6,
   "metadata": {},
   "outputs": [
    {
     "name": "stdout",
     "output_type": "stream",
     "text": [
      "My list's id is 2520840847048\n",
      "Your list's id is 2520840847048\n",
      "My list copy's id is 2520840366152\n",
      "\n",
      "My list is your list?  True\n",
      "My list is my list copy?  False\n"
     ]
    }
   ],
   "source": [
    "my_list = [1,2,3,4]\n",
    "your_list = my_list\n",
    "my_list_copy = my_list.copy()\n",
    "\n",
    "print(\"My list's id is {}\".format(id(my_list)))\n",
    "print(\"Your list's id is {}\".format(id(your_list)))\n",
    "print(\"My list copy's id is {}\".format(id(my_list_copy)))\n",
    "print()\n",
    "\n",
    "print(\"My list is your list? \", my_list is your_list)\n",
    "print(\"My list is my list copy? \", my_list is my_list_copy)"
   ]
  },
  {
   "cell_type": "markdown",
   "metadata": {},
   "source": [
    "Having multiple variable names point to the same object means that you can have situations like this:"
   ]
  },
  {
   "cell_type": "code",
   "execution_count": 7,
   "metadata": {},
   "outputs": [
    {
     "name": "stdout",
     "output_type": "stream",
     "text": [
      "After appending to your_list\n",
      "My list:  [1, 2, 3, 4, 5]\n",
      "\n",
      "After appending to my_list_copy\n",
      "My list:  [1, 2, 3, 4, 5]\n",
      "My list copy:  [1, 2, 3, 4, 6]\n"
     ]
    }
   ],
   "source": [
    "your_list.append(5)\n",
    "print(\"After appending to your_list\")\n",
    "print(\"My list: \", my_list)\n",
    "print()\n",
    "\n",
    "my_list_copy.append(6)\n",
    "print(\"After appending to my_list_copy\")\n",
    "print(\"My list: \", my_list)\n",
    "print(\"My list copy: \", my_list_copy)"
   ]
  },
  {
   "cell_type": "markdown",
   "metadata": {},
   "source": [
    "So `object` can refer to these memory locations under the hood of Python, but today we're more interested in the second definition:  An `object` is an instantiation of a `class`.\n",
    "\n",
    "A common way to think of a class is as a blueprint:  Just like how a blueprint describes the design of a house, so too does a class describe what an object should have (`attributes`), and what things it should be able to do (`methods`).  \n",
    "\n",
    "For example, there could be a class `Dog` which might have a `dog_breed` attribute and a `bark` method.  Then a `Dog` object could be Rin Tin Tin or Air Bud."
   ]
  },
  {
   "cell_type": "markdown",
   "metadata": {},
   "source": [
    "You probably didn't realize it, but you've been using this definition of object the whole time as well!  Almost everything in Python is an object:  Numbers, strings, lists; you name it!"
   ]
  },
  {
   "cell_type": "code",
   "execution_count": 8,
   "metadata": {},
   "outputs": [
    {
     "name": "stdout",
     "output_type": "stream",
     "text": [
      "Is 5 an object?  True\n",
      "Is 'meow?' an object?  True\n",
      "Are lists objects?  True\n"
     ]
    }
   ],
   "source": [
    "print(\"Is 5 an object? \", isinstance(5, object))\n",
    "print(\"Is 'meow?' an object? \", isinstance(\"meow?\", object))\n",
    "print(\"Are lists objects? \", isinstance([], object))"
   ]
  },
  {
   "cell_type": "markdown",
   "metadata": {},
   "source": [
    "`isinstance(item, class)` checks to see if the supplied item is an instance of class or one of class' descendents.  Since everything is an object in Python, everything inherits from object, the mother of all classes!"
   ]
  },
  {
   "cell_type": "markdown",
   "metadata": {},
   "source": [
    "#### Attributes\n",
    "\n",
    "Attributes are used to store data that the object needs to keep track of.  For example, a `BankAccount` class would likely need to know its unique account number, as well as its balance.  An example of a bank account class with these attributes is below:"
   ]
  },
  {
   "cell_type": "code",
   "execution_count": 20,
   "metadata": {},
   "outputs": [
    {
     "name": "stdout",
     "output_type": "stream",
     "text": [
      "Account number: 123\n",
      "Balance: $1,000\n"
     ]
    }
   ],
   "source": [
    "class BankAccount:\n",
    "    def __init__(self, acct_num, balance):\n",
    "        self.acct_num = acct_num\n",
    "        self.balance = balance\n",
    "\n",
    "my_acct = BankAccount(123, 1000)\n",
    "print(\"Account number: {}\".format(my_acct.acct_num))\n",
    "print(\"Balance: ${:,}\".format(my_acct.balance))"
   ]
  },
  {
   "cell_type": "markdown",
   "metadata": {},
   "source": [
    "You will generally find that most of your interaction with classes will be by using methods.  Attributes are more commonly used internally by the class, with methods being defined to get those values if a user needs them.  These methods are called **getter** and **setter** methods, which generally retrieve an attribute's value, or assign it.\n",
    "\n",
    "If you think of the context of a list, Python provides you a convenient syntax to get and set the value of a specific item (these are methods), but not for accessing the underlying data structure (those are hidden attributes)."
   ]
  },
  {
   "cell_type": "markdown",
   "metadata": {},
   "source": [
    "**Note..** A stylistic point that is easy to miss:  In Python, functions are usually named using *snake_case*, while classes are named with *CamelCase*.  Additionally, a function's name should describe what it does, while a class' name should describe what it represents."
   ]
  },
  {
   "cell_type": "markdown",
   "metadata": {},
   "source": [
    "#### Methods\n",
    "\n",
    "The class above also uses the `def` keyword, like with a function declaration.  Methods are just functions which are attached to a class.  The `__init__` method is a special method called a **constructor**, which is the method that is always called when you instantiate an object.  We will cover special methods like `__init__` more during our next meeting.\n",
    "\n",
    "Let's add a few methods to our BankAccount class:"
   ]
  },
  {
   "cell_type": "code",
   "execution_count": 10,
   "metadata": {},
   "outputs": [
    {
     "name": "stdout",
     "output_type": "stream",
     "text": [
      "Account number 123 has a balance of $1,000\n",
      "\n",
      "Depositing $20\n",
      "Account number 123 has a balance of $1,020\n"
     ]
    }
   ],
   "source": [
    "class BankAccount:\n",
    "    def __init__(self, acct_num, balance):\n",
    "        self.acct_num = acct_num\n",
    "        self.balance = balance\n",
    "        \n",
    "    def check_balance(self):\n",
    "        return \"Account number {} has a balance of ${:,}\".format(self.acct_num, self.balance)\n",
    "    \n",
    "    def deposit(self, amount):\n",
    "        self.balance += amount\n",
    "    \n",
    "my_acct = BankAccount(123, 1000)\n",
    "print(my_acct.check_balance())\n",
    "print()\n",
    "\n",
    "print(\"Depositing $20\")\n",
    "my_acct.deposit(20)\n",
    "print(my_acct.check_balance())"
   ]
  },
  {
   "cell_type": "markdown",
   "metadata": {},
   "source": [
    "One thing that students always get confused by is the *self* keyword.  It's important to remember that *self* is basically a placeholder for the specific object which is calling the method.  In the above example, when we call `my_acct.deposit(20)`, the deposit method is adding 20 to `my_acct.balance`."
   ]
  },
  {
   "cell_type": "markdown",
   "metadata": {},
   "source": [
    "## Some more examples"
   ]
  },
  {
   "cell_type": "code",
   "execution_count": 149,
   "metadata": {},
   "outputs": [
    {
     "data": {
      "text/plain": [
       "9"
      ]
     },
     "execution_count": 149,
     "metadata": {},
     "output_type": "execute_result"
    }
   ],
   "source": [
    "#Class for rolling multiple dice and then applying a strategy to the result (sum, max, min, etc.)\n",
    "from random import randint\n",
    "\n",
    "class Dice:\n",
    "    def __init__(self, *sides, strategy = sum):\n",
    "        self.sides = sides\n",
    "        self.strategy = strategy\n",
    "\n",
    "    def roll(self):\n",
    "        return self.strategy([randint(1, side) for side in self.sides])\n",
    "\n",
    "three_d6 = Dice(6,6,6)\n",
    "three_d6.roll()"
   ]
  },
  {
   "cell_type": "code",
   "execution_count": 152,
   "metadata": {},
   "outputs": [],
   "source": [
    "from other_dice import Die, BinomialDie, PoissonDie\n",
    "\n",
    "normal_die = Die()\n",
    "binomial_die = BinomialDie()\n",
    "poisson_die = PoissonDie()\n",
    "\n",
    "bag_of_dice = [normal_die, binomial_die, poisson_die]\n",
    "random_die = bag_of_dice[randint(0,2)]"
   ]
  },
  {
   "cell_type": "code",
   "execution_count": 172,
   "metadata": {},
   "outputs": [
    {
     "data": {
      "text/plain": [
       "3"
      ]
     },
     "execution_count": 172,
     "metadata": {},
     "output_type": "execute_result"
    }
   ],
   "source": [
    "random_die.roll()"
   ]
  },
  {
   "cell_type": "markdown",
   "metadata": {},
   "source": [
    "## Build a class together!"
   ]
  },
  {
   "cell_type": "code",
   "execution_count": null,
   "metadata": {
    "collapsed": true
   },
   "outputs": [],
   "source": [
    "#Our class will go here:\n"
   ]
  },
  {
   "cell_type": "markdown",
   "metadata": {},
   "source": [
    "## But why use objects?\n",
    "\n",
    "Object-oriented programming has three tenets:  Inheritance, Polymorphism, and Encapsulation."
   ]
  },
  {
   "cell_type": "markdown",
   "metadata": {},
   "source": [
    "#### Inheritance\n",
    "\n",
    "Many objects, both real-world and man-made, fit well within a hierarchical structure.  For example, Red Foxes are in the genus Vulpes (foxes), the family Canidae (dogs, wolves, jackals, foxes), the order Carnivora (carnivores), the class Mammalia... you get the picture.  Red Foxes \"inherit\" characteristics from all the levels above them.  You can do the same thing in Python, though this practice is not used very often.\n",
    "\n",
    "Here's an example of inheritance with our BankAccount class.  The class to inherit from is placed in parentheses after the class name.  As we mentioned earlier, everything in Python is an object, so all classes implicitly inherit from `object`."
   ]
  },
  {
   "cell_type": "code",
   "execution_count": 13,
   "metadata": {},
   "outputs": [
    {
     "name": "stdout",
     "output_type": "stream",
     "text": [
      "Account number 102 has a balance of $1,000\n",
      "\n",
      "Wrote a check for $50\n",
      "Account number 102 has a balance of $950\n"
     ]
    }
   ],
   "source": [
    "class CheckingAccount(BankAccount):\n",
    "    def clear_check(self, amount):\n",
    "        if self.balance < amount:\n",
    "            raise ValueError(\"Check bounced!\")\n",
    "        else:\n",
    "            self.balance -= amount\n",
    "\n",
    "my_checking_account = CheckingAccount(102, 1000)\n",
    "print(my_checking_account.check_balance())\n",
    "print()\n",
    "\n",
    "print(\"Wrote a check for $50\")\n",
    "my_checking_account.clear_check(50)\n",
    "print(my_checking_account.check_balance())"
   ]
  },
  {
   "cell_type": "markdown",
   "metadata": {},
   "source": [
    "Notice how the CheckingAccount class never defined the `check_balance` method, but we were still able to call it anyways.  This is because we inherited everything from the `BankAccount` class.\n",
    "\n",
    "Inheritance is cool, but as we said earlier it's not very commonly used.  You will probably never need to code your own classes with inheritance, even though the libraries you use probably will."
   ]
  },
  {
   "cell_type": "markdown",
   "metadata": {},
   "source": [
    "#### Polymorphism\n",
    "\n",
    "The next tenet of OOP is polymorphism.  Polymorphism is a Greek word meaning \"many forms,\" and it is the practice of allowing different things to be treated the same way.\n",
    "\n",
    "A really good example of polymorphism is the `sklearn` library.  `sklearn` is a machine learning library in Python which provides efficient and convenient implementations of many ML methods including Linear Regression, Random Forests, and Gradient Boosted Trees.\n",
    "\n",
    "The reason `sklearn` is so great is the consistency of how you interact with it, no matter what type of model you are building.  When you want to fit a model to your data, you call the .fit() method.  When you want to predict for some new data, you call the .predict() method.  That leads to the possibility of doing things like this:"
   ]
  },
  {
   "cell_type": "markdown",
   "metadata": {},
   "source": [
    "```python\n",
    "for model in list_of_models:\n",
    "    model.fit(X_train, y_train)\n",
    "    predictions = model.predict(X_test)\n",
    "    print(\"Accuracy for model {} is: {}\".format(model.name, calculate_accuracy(y_test, predictions)))\n",
    "```"
   ]
  },
  {
   "cell_type": "markdown",
   "metadata": {},
   "source": [
    "Under the hood, these different statistical models can operate *very* differently, but the user is given a very consistent way to interact with them, so the code is exactly the same!"
   ]
  },
  {
   "cell_type": "markdown",
   "metadata": {},
   "source": [
    "#### Encapsulation\n",
    "\n",
    "The biggest benefit OOP provides is that of abstraction and encapsulation.  Abstraction refers to the act of hiding the internal workings of a class.  The objects you've used up until now make heavy use of abstraction.  What really happens when you type `2 + 2`?  What does `my_list.append(item)` actually do?  You likely don't know... and you don't need to, thanks to abstraction!\n",
    "\n",
    "Encapsulation expands upon abstraction and additionally requires hiding away the complexities of the class from the user.  Users in this context means anything that communicates with the class, which could be a programmer or even another class.\n",
    "\n",
    "Encapsulating classes promotes two things crucial for good software engineering:  **Low coupling** and **high cohesion**.  Coupling refers to the degree of interconnectedness and interdependency between classes.  Cohesion refers to the degree of focus that a class has - a BankAccount class, for example, shouldn't contain code for how to interact with the ATM."
   ]
  },
  {
   "cell_type": "markdown",
   "metadata": {},
   "source": [
    "### Wrapping things up\n",
    "\n",
    "It's okay if you're a bit confused or unconvinced by the value of OOP.  Some people just don't like it; for others, it just takes time to get into the mindset of structuring your code proactively.  Either way, objects and classes are everywhere in Python, so in order to be an effective programmer you must be familiar with the paradigm."
   ]
  },
  {
   "cell_type": "markdown",
   "metadata": {
    "collapsed": true
   },
   "source": [
    "## Reference\n",
    "\n",
    "* **Inheritance** - When a class is based on another class, building off of the existing class to take advantage of existing behavior, while having additional specific behavior of its own.\n",
    "* **Encapsulation** - The practice of hiding the inner workings of our class, and only exposing what is necessary to the outside world. This idea is effectively the same as the idea of **abstraction**, and allows users of our classes to only care about the what (i.e. what our class can do) and not the how (i.e. how our class does what it does).\n",
    "* **Polymorphism** - The provision of a single interface to entities of different types. This enables us to use a shared interface for similar classes while at the same time still allowing each class to have its own specialized behavior.\n",
    "\n",
    "1. **Class** - Used to refer to the abstract concept of an object.\n",
    "2. **Object** - An actual instance of a class.\n",
    "3. **Instance** - What Python returns when you tell it to create a class.\n",
    "4. **Instantiation** - A fancy way of saying that we're going to create an instance of a class.\n",
    "5. **Constructor** - What we call to instantiate a class.\n",
    "6. **self** - Inside of a class, a variable for the instance/object being accessed (i.e. it holds a reference to the instance/object of that class).\n",
    "7. **attribute**/**property** - A piece of data that a class has, stored in a variable. Inside of a class definition, all attributes/fields/properties are accessed via `self.<attribute>`, while on an instance, they are accessed via `<variable name>.<attribute>`.\n",
    "8. **method** - A block of code that is accessible via the class, and typically acts on or with the classes' attributes/fields/properties. Inside of a class definition, all methods/procedures are created via `def` (they are really just functions), and accessible via `self.<method>()`, while on an instance, they are accessed via `<variable name>.<method>()`."
   ]
  }
 ],
 "metadata": {
  "kernelspec": {
   "display_name": "Python [conda root]",
   "language": "python",
   "name": "conda-root-py"
  },
  "language_info": {
   "codemirror_mode": {
    "name": "ipython",
    "version": 3
   },
   "file_extension": ".py",
   "mimetype": "text/x-python",
   "name": "python",
   "nbconvert_exporter": "python",
   "pygments_lexer": "ipython3",
   "version": "3.5.4"
  }
 },
 "nbformat": 4,
 "nbformat_minor": 2
}
