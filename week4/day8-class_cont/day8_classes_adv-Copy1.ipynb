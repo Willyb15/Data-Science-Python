{
 "cells": [
  {
   "cell_type": "markdown",
   "metadata": {},
   "source": [
    "# A Quick Diversion\n",
    "\n",
    "Last class someone asked if I could talk more about functional programming, so here goes!\n",
    "\n",
    "### What is Functional Programming?\n",
    "\n",
    "Functional programming (FP) is a paradigm which has traditionally thrived in the realm of academia among true \"computer scientists\" (as opposed to computer programmers or software engineers).  As the name implies, under FP a programmer would break down a large problem into a series of smaller and smaller problems until they were simple enough to solve with one function, then they would compose all of the functions together to solve the problem.\n",
    "\n",
    "The biggest requirements of FP are the following:\n",
    "\n",
    "* First-class functions:  A function in a FP context must be able to be used the same as any other value (numbers, characters, etc.).  This means functions can be passed as arguments to other functions, as well as returned by functions.\n",
    "\n",
    "* No side-effects:  FP forbids the usage of state or side-effects.  For example, when you call .append on a list in Python, this alters the underlying list, changing the state of the list.  When a language has no side-effects, it is actually feasible to mathematically prove the validity of code.\n",
    "\n",
    "* Recursion:  Since FP is built upon first-class functions, recursion is a very common tactic for solving problems.  In FP languages, recursion is much more efficient than in languages like Python.\n",
    "\n",
    "* A typing system:  FP is usually strongly-typed, which allows for errors to be found before the code is actually ever executed\n",
    "\n",
    "In previous years, mainstream programmers were somewhat dismissive of FP, dismissing it as \"ivory tower\" and not useful in the real world.  Luckily, over time people tend to borrow (steal) the good ideas that other people have, so a lot of the good bits of FP have been imported into imperative languages like Python."
   ]
  },
  {
   "cell_type": "code",
   "execution_count": 3,
   "metadata": {},
   "outputs": [
    {
     "data": {
      "text/plain": [
       "6"
      ]
     },
     "execution_count": 3,
     "metadata": {},
     "output_type": "execute_result"
    }
   ],
   "source": [
    "def factorial(n):\n",
    "    if n == 1:\n",
    "        return 1\n",
    "    else:\n",
    "        return n * factorial(n-1)\n",
    "    \n",
    "factorial(3)"
   ]
  },
  {
   "cell_type": "code",
   "execution_count": 4,
   "metadata": {},
   "outputs": [
    {
     "name": "stdout",
     "output_type": "stream",
     "text": [
      "Imperative:\n"
     ]
    },
    {
     "data": {
      "text/plain": [
       "[0, 1, 1, 2, 3, 5, 8, 13, 21, 34]"
      ]
     },
     "execution_count": 4,
     "metadata": {},
     "output_type": "execute_result"
    }
   ],
   "source": [
    "#Example adapted from Wikipedia's functional programming article\n",
    "#Imperative\n",
    "def fibonacci(n, first=0, second=1):\n",
    "    results = []\n",
    "    while n != 0:\n",
    "        results.append(first) #side effect\n",
    "        n, first, second = n - 1, second, first + second # assignment\n",
    "    return results\n",
    "\n",
    "fibonacci(10)"
   ]
  },
  {
   "cell_type": "code",
   "execution_count": 5,
   "metadata": {},
   "outputs": [
    {
     "name": "stdout",
     "output_type": "stream",
     "text": [
      "Functional:\n"
     ]
    },
    {
     "data": {
      "text/plain": [
       "[0, 1, 1, 2, 3, 5, 8, 13, 21, 34]"
      ]
     },
     "execution_count": 5,
     "metadata": {},
     "output_type": "execute_result"
    }
   ],
   "source": [
    "#Functional\n",
    "fibonacci = (lambda n, first=0, second=1:\n",
    "    [] if n == 0 else # base case\n",
    "    [first] + fibonacci(n - 1, second, first + second)) #recursion\n",
    "fibonacci(10)"
   ]
  },
  {
   "cell_type": "markdown",
   "metadata": {},
   "source": [
    "There are three functions available in Python which are commonly associated with FP:  `map`, `reduce`, and `filter`.  Map applies a function to every item (or set of items) in an iterable (like a list).  Reduce takes in an iterable and produces a single item as a result.  Filter takes in a predicate (function which returns `True` or `False`) and throws away all the items which evaluate to `False`.  Let's see some examples:"
   ]
  },
  {
   "cell_type": "code",
   "execution_count": 9,
   "metadata": {},
   "outputs": [
    {
     "data": {
      "text/plain": [
       "[1, 4, 9, 16, 25]"
      ]
     },
     "execution_count": 9,
     "metadata": {},
     "output_type": "execute_result"
    }
   ],
   "source": [
    "from functools import reduce\n",
    "numbers = [1,2,3,4,5]\n",
    "squared_numbers = list(map(lambda x: x ** 2, numbers))\n",
    "squared_numbers"
   ]
  },
  {
   "cell_type": "code",
   "execution_count": 10,
   "metadata": {},
   "outputs": [
    {
     "data": {
      "text/plain": [
       "[7, 9, 11, 13, 15]"
      ]
     },
     "execution_count": 10,
     "metadata": {},
     "output_type": "execute_result"
    }
   ],
   "source": [
    "more_numbers = [6,7,8,9,10]\n",
    "added_numbers = list(map(lambda x, y: x + y, numbers, more_numbers))\n",
    "added_numbers"
   ]
  },
  {
   "cell_type": "code",
   "execution_count": 11,
   "metadata": {},
   "outputs": [
    {
     "data": {
      "text/plain": [
       "[('Billy', 13), ('Bobby', 14), ('Johnny', 9)]"
      ]
     },
     "execution_count": 11,
     "metadata": {},
     "output_type": "execute_result"
    }
   ],
   "source": [
    "names = [\"Billy\", \"Bobby\", \"Johnny\"]\n",
    "ages = [13, 14, 9]\n",
    "combined = list(map(lambda x, y: (x, y), names, ages))\n",
    "combined"
   ]
  },
  {
   "cell_type": "code",
   "execution_count": 12,
   "metadata": {},
   "outputs": [
    {
     "data": {
      "text/plain": [
       "[('Billy', 13), ('Bobby', 14)]"
      ]
     },
     "execution_count": 12,
     "metadata": {},
     "output_type": "execute_result"
    }
   ],
   "source": [
    "teens = list(filter(lambda x: x[1] >= 13, combined))\n",
    "teens"
   ]
  },
  {
   "cell_type": "code",
   "execution_count": 13,
   "metadata": {},
   "outputs": [
    {
     "data": {
      "text/plain": [
       "['Billy', 'Bobby']"
      ]
     },
     "execution_count": 13,
     "metadata": {},
     "output_type": "execute_result"
    }
   ],
   "source": [
    "names_of_teens = list(map(lambda x: x[0], teens))\n",
    "names_of_teens"
   ]
  },
  {
   "cell_type": "code",
   "execution_count": 16,
   "metadata": {},
   "outputs": [
    {
     "data": {
      "text/plain": [
       "['Billy', 'Bobby']"
      ]
     },
     "execution_count": 16,
     "metadata": {},
     "output_type": "execute_result"
    }
   ],
   "source": [
    "all_in_one = list(map(lambda x: x[0], \n",
    "                      filter(lambda x: x[1] >= 13, \n",
    "                             map(lambda x, y: (x, y), names, ages))))\n",
    "all_in_one"
   ]
  },
  {
   "cell_type": "code",
   "execution_count": 14,
   "metadata": {},
   "outputs": [
    {
     "data": {
      "text/plain": [
       "['Billy', 'Bobby']"
      ]
     },
     "execution_count": 14,
     "metadata": {},
     "output_type": "execute_result"
    }
   ],
   "source": [
    "list_comp = [name for name, age in zip(names, ages) if age >= 13]\n",
    "list_comp"
   ]
  },
  {
   "cell_type": "code",
   "execution_count": 15,
   "metadata": {},
   "outputs": [
    {
     "data": {
      "text/plain": [
       "{1}"
      ]
     },
     "execution_count": 15,
     "metadata": {},
     "output_type": "execute_result"
    }
   ],
   "source": [
    "set_a = set([1,2,3,4,5])\n",
    "set_b = set([1,3,5,7,9])\n",
    "set_c = set([1,4,9,16,25])\n",
    "reduce(set.intersection, [set_a, set_b, set_c])"
   ]
  },
  {
   "cell_type": "code",
   "execution_count": 16,
   "metadata": {},
   "outputs": [
    {
     "data": {
      "text/plain": [
       "{1, 2, 3, 4, 5, 7, 9, 16, 25}"
      ]
     },
     "execution_count": 16,
     "metadata": {},
     "output_type": "execute_result"
    }
   ],
   "source": [
    "reduce(set.union, [set_a, set_b, set_c])"
   ]
  },
  {
   "cell_type": "markdown",
   "metadata": {},
   "source": [
    "As you may be able to tell from the syntax, Python isn't terribly well-suited for programming in a \"functional\" style like in the more serious FP languages like Haskell.  However, Python has many great features which are inspired by FP, such as list comprehensions, first-class functions, and lambda!\n",
    "\n",
    "If you're interested in FP but don't want to have to learn a new programming language, I found [this Python package](http://coconut-lang.org/) which adds syntax that looks *very* similar to many functional languages."
   ]
  },
  {
   "cell_type": "markdown",
   "metadata": {},
   "source": [
    "# Creating Useful Classes\n",
    "\n",
    "### Example:  DefaultDict"
   ]
  },
  {
   "cell_type": "code",
   "execution_count": 17,
   "metadata": {},
   "outputs": [
    {
     "name": "stdout",
     "output_type": "stream",
     "text": [
      "['two', 'roads', 'diverged', 'in', 'a', 'yellow', 'wood', 'and', 'sorry', 'i', 'could', 'not', 'travel', 'both', 'and', 'be', 'one', 'traveler', 'long', 'i']\n"
     ]
    }
   ],
   "source": [
    "from collections import defaultdict, Counter\n",
    "import string\n",
    "\n",
    "#Some data\n",
    "data = \"\"\"Two roads diverged in a yellow wood,\n",
    "And sorry I could not travel both\n",
    "And be one traveler, long I stood\n",
    "And looked down one as far as I could\n",
    "To where it bent in the undergrowth;\n",
    "\n",
    "Then took the other, as just as fair,\n",
    "And having perhaps the better claim,\n",
    "Because it was grassy and wanted wear;\n",
    "Though as for that the passing there\n",
    "Had worn them really about the same,\n",
    "\n",
    "And both that morning equally lay\n",
    "In leaves no step had trodden black.\n",
    "Oh, I kept the first for another day!\n",
    "Yet knowing how way leads on to way,\n",
    "I doubted if I should ever come back.\n",
    "\n",
    "I shall be telling this with a sigh\n",
    "Somewhere ages and ages hence:\n",
    "Two roads diverged in a wood, and I—\n",
    "I took the one less traveled by,\n",
    "And that has made all the difference.\"\"\"\n",
    "\n",
    "#Translator removes punctuation\n",
    "translator = str.maketrans('', '', string.punctuation + \"—\")\n",
    "data = data.translate(translator).lower().split()\n",
    "print(data[:20])"
   ]
  },
  {
   "cell_type": "code",
   "execution_count": 18,
   "metadata": {},
   "outputs": [
    {
     "data": {
      "text/plain": [
       "'!\"#$%&\\'()*+,-./:;<=>?@[\\\\]^_`{|}~'"
      ]
     },
     "execution_count": 18,
     "metadata": {},
     "output_type": "execute_result"
    }
   ],
   "source": [
    "string.punctuation"
   ]
  },
  {
   "cell_type": "code",
   "execution_count": 21,
   "metadata": {},
   "outputs": [
    {
     "name": "stdout",
     "output_type": "stream",
     "text": [
      "{'down': 1, 'took': 2, 'worn': 1, 'step': 1, 'come': 1, 'traveler': 1, 'and': 9, 'same': 1, 'sigh': 1, 'hence': 1, 'telling': 1, 'long': 1, 'i': 9, 'how': 1, 'ages': 2, 'really': 1, 'though': 1, 'ever': 1, 'knowing': 1, 'sorry': 1, 'equally': 1, 'leaves': 1, 'way': 2, 'has': 1, 'yet': 1, 'better': 1, 'claim': 1, 'on': 1, 'had': 2, 'looked': 1, 'it': 2, 'two': 2, 'one': 3, 'another': 1, 'should': 1, 'yellow': 1, 'back': 1, 'wanted': 1, 'all': 1, 'having': 1, 'then': 1, 'was': 1, 'trodden': 1, 'no': 1, 'grassy': 1, 'because': 1, 'both': 2, 'difference': 1, 'far': 1, 'shall': 1, 'morning': 1, 'there': 1, 'as': 5, 'first': 1, 'black': 1, 'traveled': 1, 'made': 1, 'less': 1, 'for': 2, 'not': 1, 'travel': 1, 'roads': 2, 'could': 2, 'just': 1, 'perhaps': 1, 'leads': 1, 'wear': 1, 'lay': 1, 'wood': 2, 'doubted': 1, 'stood': 1, 'other': 1, 'about': 1, 'be': 2, 'oh': 1, 'somewhere': 1, 'passing': 1, 'undergrowth': 1, 'where': 1, 'diverged': 2, 'fair': 1, 'this': 1, 'if': 1, 'in': 4, 'by': 1, 'that': 3, 'a': 3, 'to': 2, 'bent': 1, 'with': 1, 'kept': 1, 'day': 1, 'the': 8, 'them': 1}\n"
     ]
    }
   ],
   "source": [
    "#Let's count how many times each word appears!\n",
    "d = {}\n",
    "for item in data:\n",
    "    \n",
    "    #Must check to see if the item is already inside the dictionary, or we'll get an error\n",
    "    #If the key exists, we have seen it before and want to add 1 to the count\n",
    "    if item in d:\n",
    "        d[item] += 1\n",
    "        \n",
    "    #Otherwise, this is the first time we've seen this word\n",
    "    else:\n",
    "        d[item] = 1\n",
    "        \n",
    "print(d)"
   ]
  },
  {
   "cell_type": "code",
   "execution_count": 30,
   "metadata": {},
   "outputs": [
    {
     "data": {
      "text/plain": [
       "[('i', 9), ('and', 9), ('the', 8)]"
      ]
     },
     "execution_count": 30,
     "metadata": {},
     "output_type": "execute_result"
    }
   ],
   "source": [
    "#Isn't this easier?\n",
    "c = Counter(data)\n",
    "\n",
    "#It's even sorted for us!\n",
    "c.most_common(3)"
   ]
  },
  {
   "cell_type": "code",
   "execution_count": 34,
   "metadata": {},
   "outputs": [
    {
     "data": {
      "text/plain": [
       "[('i', 9), ('and', 9)]"
      ]
     },
     "execution_count": 34,
     "metadata": {},
     "output_type": "execute_result"
    }
   ],
   "source": [
    "#We can implement this ourselves!\n",
    "class OurCounter:\n",
    "    def __init__(self, some_list):\n",
    "        self.d = {}\n",
    "        for item in some_list:\n",
    "            #Must check to see if the item is already inside the dictionary, or we'll get an error\n",
    "            #If the key exists, we have seen it before and want to add 1 to the count\n",
    "            if item in self.d:\n",
    "                self.d[item] += 1\n",
    "\n",
    "            #Otherwise, this is the first time we've seen this word\n",
    "            else:\n",
    "                self.d[item] = 1\n",
    "    \n",
    "    def __str__(self):\n",
    "        return \"Counter({})\".format([(key, value) for \n",
    "                                     key, value in \n",
    "                                     sorted(self.d.items(), key = lambda x: -x[1])])\n",
    "    \n",
    "    def most_common(self, n):\n",
    "#         max_key = None\n",
    "#         max_count = 0\n",
    "#         for key, value in self.d.items():\n",
    "#             if value > max_count:\n",
    "#                 max_key = key\n",
    "#                 max_count = value\n",
    "\n",
    "        sorted_keys = [(key, value) for \n",
    "         key, value in \n",
    "         sorted(self.d.items(), key = lambda x: -x[1])]\n",
    "        \n",
    "        return sorted_keys[:n]\n",
    "\n",
    "OurCounter(data).most_common(2)"
   ]
  },
  {
   "cell_type": "code",
   "execution_count": 35,
   "metadata": {},
   "outputs": [
    {
     "name": "stdout",
     "output_type": "stream",
     "text": [
      "{'to': ['where', 'way'], 'shall': ['be'], 'bent': ['in'], 'looked': ['down'], 'for': ['that', 'another'], 'another': ['day'], 'better': ['claim'], 'be': ['one', 'telling'], 'wear': ['though'], 'kept': ['the'], 'then': ['took'], 'ever': ['come'], 'telling': ['this'], 'step': ['had'], 'this': ['with'], 'took': ['the', 'the'], 'leaves': ['no'], 'less': ['traveled'], 'how': ['way'], 'ages': ['and', 'hence'], 'in': ['a', 'the', 'leaves', 'a'], 'perhaps': ['the'], 'roads': ['diverged', 'diverged'], 'oh': ['i'], 'just': ['as'], 'passing': ['there'], 'where': ['it'], 'diverged': ['in', 'in'], 'yellow': ['wood'], 'wanted': ['wear'], 'having': ['perhaps'], 'both': ['and', 'that'], 'had': ['worn', 'trodden'], 'hence': ['two'], 'stood': ['and'], 'not': ['travel'], 'come': ['back'], 'the': ['undergrowth', 'other', 'better', 'passing', 'same', 'first', 'one', 'difference'], 'should': ['ever'], 'because': ['it'], 'first': ['for'], 'undergrowth': ['then'], 'leads': ['on'], 'sorry': ['i'], 'knowing': ['how'], 'could': ['not', 'to'], 'i': ['could', 'stood', 'could', 'kept', 'doubted', 'should', 'shall', 'i', 'took'], 'grassy': ['and'], 'equally': ['lay'], 'though': ['as'], 'travel': ['both'], 'down': ['one'], 'other': ['as'], 'them': ['really'], 'back': ['i'], 'doubted': ['if'], 'one': ['traveler', 'as', 'less'], 'wood': ['and', 'and'], 'morning': ['equally'], 'somewhere': ['ages'], 'on': ['to'], 'if': ['i'], 'and': ['sorry', 'be', 'looked', 'having', 'wanted', 'both', 'ages', 'i', 'that'], 'two': ['roads', 'roads'], 'made': ['all'], 'all': ['the'], 'about': ['the'], 'claim': ['because'], 'it': ['bent', 'was'], 'fair': ['and'], 'far': ['as'], 'yet': ['knowing'], 'with': ['a'], 'lay': ['in'], 'way': ['leads', 'i'], 'same': ['and'], 'long': ['i'], 'as': ['far', 'i', 'just', 'fair', 'for'], 'really': ['about'], 'by': ['and'], 'black': ['oh'], 'traveler': ['long'], 'traveled': ['by'], 'sigh': ['somewhere'], 'has': ['made'], 'there': ['had'], 'that': ['the', 'morning', 'has'], 'worn': ['them'], 'was': ['grassy'], 'trodden': ['black'], 'no': ['step'], 'a': ['yellow', 'sigh', 'wood'], 'day': ['yet']}\n"
     ]
    }
   ],
   "source": [
    "#Another common use case:  Let's find the words that follow other words\n",
    "d = dict()\n",
    "for i in range(len(data) - 1):\n",
    "    \n",
    "    #If we've already seen this word, then we'll add the following word to the list of words\n",
    "    if data[i] in d:\n",
    "        d[data[i]].append(data[i+1])\n",
    "        \n",
    "    #Otherwise, we need to create a new list containing just the following word\n",
    "    else:\n",
    "        d[data[i]] = [data[i+1]]\n",
    "\n",
    "#For the statistically-inclined, we've created a Markov Chain!\n",
    "print(d)"
   ]
  },
  {
   "cell_type": "code",
   "execution_count": 46,
   "metadata": {},
   "outputs": [
    {
     "name": "stdout",
     "output_type": "stream",
     "text": [
      "defaultdict(<class 'list'>, {'to': ['where', 'way'], 'shall': ['be'], 'bent': ['in'], 'looked': ['down'], 'for': ['that', 'another'], 'another': ['day'], 'better': ['claim'], 'be': ['one', 'telling'], 'wear': ['though'], 'kept': ['the'], 'then': ['took'], 'ever': ['come'], 'telling': ['this'], 'step': ['had'], 'this': ['with'], 'took': ['the', 'the'], 'leaves': ['no'], 'less': ['traveled'], 'how': ['way'], 'ages': ['and', 'hence'], 'in': ['a', 'the', 'leaves', 'a'], 'perhaps': ['the'], 'roads': ['diverged', 'diverged'], 'oh': ['i'], 'just': ['as'], 'passing': ['there'], 'where': ['it'], 'diverged': ['in', 'in'], 'yellow': ['wood'], 'wanted': ['wear'], 'having': ['perhaps'], 'both': ['and', 'that'], 'had': ['worn', 'trodden'], 'hence': ['two'], 'stood': ['and'], 'not': ['travel'], 'come': ['back'], 'the': ['undergrowth', 'other', 'better', 'passing', 'same', 'first', 'one', 'difference'], 'should': ['ever'], 'because': ['it'], 'first': ['for'], 'undergrowth': ['then'], 'leads': ['on'], 'sorry': ['i'], 'knowing': ['how'], 'could': ['not', 'to'], 'i': ['could', 'stood', 'could', 'kept', 'doubted', 'should', 'shall', 'i', 'took'], 'grassy': ['and'], 'equally': ['lay'], 'though': ['as'], 'travel': ['both'], 'down': ['one'], 'other': ['as'], 'them': ['really'], 'back': ['i'], 'doubted': ['if'], 'one': ['traveler', 'as', 'less'], 'wood': ['and', 'and'], 'morning': ['equally'], 'somewhere': ['ages'], 'on': ['to'], 'if': ['i'], 'and': ['sorry', 'be', 'looked', 'having', 'wanted', 'both', 'ages', 'i', 'that'], 'two': ['roads', 'roads'], 'made': ['all'], 'all': ['the'], 'about': ['the'], 'claim': ['because'], 'it': ['bent', 'was'], 'fair': ['and'], 'far': ['as'], 'yet': ['knowing'], 'with': ['a'], 'lay': ['in'], 'way': ['leads', 'i'], 'same': ['and'], 'long': ['i'], 'as': ['far', 'i', 'just', 'fair', 'for'], 'really': ['about'], 'by': ['and'], 'black': ['oh'], 'traveler': ['long'], 'traveled': ['by'], 'sigh': ['somewhere'], 'has': ['made'], 'there': ['had'], 'that': ['the', 'morning', 'has'], 'worn': ['them'], 'was': ['grassy'], 'trodden': ['black'], 'no': ['step'], 'a': ['yellow', 'sigh', 'wood'], 'day': ['yet']})\n"
     ]
    }
   ],
   "source": [
    "#If a non-existent key is looked up, set the value of that key to be an empty list\n",
    "d = defaultdict(list)\n",
    "\n",
    "for i in range(len(data) - 1):\n",
    "    #Using the defaultdict, we can append without worry\n",
    "    d[data[i]].append(data[i+1])\n",
    "    \n",
    "print(d)"
   ]
  },
  {
   "cell_type": "code",
   "execution_count": 44,
   "metadata": {},
   "outputs": [
    {
     "data": {
      "text/plain": [
       "['roads', 'roads']"
      ]
     },
     "execution_count": 44,
     "metadata": {},
     "output_type": "execute_result"
    }
   ],
   "source": [
    "#We can also implement this!\n",
    "class OurDefaultDict:\n",
    "    def __init__(self, default_func):\n",
    "        self.func = default_func\n",
    "        self.d = {}\n",
    "    \n",
    "    def __getitem__(self, key):\n",
    "        if key not in self.d:\n",
    "            self.d[key] = self.func()\n",
    "            \n",
    "        return self.d[key]\n",
    "    \n",
    "    def __repr__(self):\n",
    "        return \"OurDefaultDict({})\".format(self.d)\n",
    "    \n",
    "d = OurDefaultDict(list)\n",
    "for i in range(len(data) - 1):\n",
    "    #Using the defaultdict, we can append without worry\n",
    "    d[data[i]].append(data[i+1])\n",
    "d['two']"
   ]
  },
  {
   "cell_type": "code",
   "execution_count": 51,
   "metadata": {},
   "outputs": [
    {
     "name": "stdout",
     "output_type": "stream",
     "text": [
      "two roads diverged in leaves no step had trodden black oh i stood and both and both that has made all the same and be one as just as just as i shall be one traveler long i doubted if i could not travel both that the other as far as just as far as just as for that morning equally lay in leaves no step had trodden black oh i shall be one less traveled by and ages and ages hence two roads diverged in the passing there had worn them really about the one less traveled by and be one as just as far as i could to where it was grassy and be telling this with a wood and sorry i stood and that the one less traveled by and sorry i i kept the one less traveled by and sorry i could to where it bent in a sigh somewhere ages hence two roads diverged in a sigh somewhere ages hence two roads diverged in a wood and be one traveler long i shall be telling this with a yellow wood and having perhaps the one less traveled by and i should ever come back i doubted if i could not travel both that morning equally lay in the difference\n"
     ]
    }
   ],
   "source": [
    "from random import randint\n",
    "#Our dataset is pretty small, but let's try to resample the poem and see what it looks like\n",
    "first_word = \"two\"\n",
    "our_remix = [first_word]\n",
    "while our_remix[-1] != 'difference':\n",
    "    #Look up our current word and find the words which can follow it\n",
    "    next_word_choices = d[our_remix[-1]]\n",
    "    #Choose one of those words randomly\n",
    "    choice = next_word_choices[randint(0,len(next_word_choices) - 1)]\n",
    "    \n",
    "    #Add that word to our poem\n",
    "    our_remix.append(choice)\n",
    "\n",
    "print(\" \".join(our_remix))"
   ]
  },
  {
   "cell_type": "markdown",
   "metadata": {},
   "source": [
    "# Individual Assignment\n",
    "\n",
    "Use the code above with your own additions to create a `Remix` class which takes in a long string of text (poem, story, etc) and has a method for generating a random story using the same Markov Chain approach as above.  You should also organize the preprocessing and tokenization steps into their own methods (which should probably have a _ at the beginning of their name).  Basically, your final class should have an interface that looks somewhat like this:\n",
    "\n",
    "``` python\n",
    "atlas_remix = Remix(atlas_shrugged_string)\n",
    "atlas_remix.generate_story(words = 500)\n",
    "```"
   ]
  },
  {
   "cell_type": "code",
   "execution_count": null,
   "metadata": {
    "collapsed": true
   },
   "outputs": [],
   "source": [
    "class Remix:\n",
    "    pass"
   ]
  }
 ],
 "metadata": {
  "kernelspec": {
   "display_name": "Python [conda root]",
   "language": "python",
   "name": "conda-root-py"
  },
  "language_info": {
   "codemirror_mode": {
    "name": "ipython",
    "version": 3
   },
   "file_extension": ".py",
   "mimetype": "text/x-python",
   "name": "python",
   "nbconvert_exporter": "python",
   "pygments_lexer": "ipython3",
   "version": "3.5.4"
  }
 },
 "nbformat": 4,
 "nbformat_minor": 2
}
