{
 "cells": [
  {
   "cell_type": "markdown",
   "metadata": {},
   "source": [
    "# A Quick Diversion\n",
    "\n",
    "Last class someone asked if I could talk more about functional programming, so here goes!\n",
    "\n",
    "### What is Functional Programming?\n",
    "\n",
    "Functional programming (FP) is a paradigm which has traditionally thrived in the realm of academia among true \"computer scientists\" (as opposed to computer programmers or software engineers).  As the name implies, under FP a programmer would break down a large problem into a series of smaller and smaller problems until they were simple enough to solve with one function, then they would compose all of the functions together to solve the problem.\n",
    "\n",
    "The biggest requirements of FP are the following:\n",
    "\n",
    "* First-class functions:  A function in a FP context must be able to be used the same as any other value (numbers, characters, etc.).  This means functions can be passed as arguments to other functions, as well as returned by functions.\n",
    "\n",
    "* No side-effects:  FP forbids the usage of state or side-effects.  For example, when you call .append on a list in Python, this alters the underlying list, changing the state of the list.  When a language has no side-effects, it is actually feasible to mathematically prove the validity of code.\n",
    "\n",
    "* Recursion:  Since FP is built upon first-class functions, recursion is a very common tactic for solving problems.  In FP languages, recursion is much more efficient than in languages like Python.\n",
    "\n",
    "* A typing system:  FP is usually strongly-typed, which allows for errors to be found before the code is actually ever executed\n",
    "\n",
    "In previous years, mainstream programmers were somewhat dismissive of FP, dismissing it as \"ivory tower\" and not useful in the real world.  Luckily, over time people tend to borrow (steal) the good ideas that other people have, so a lot of the good bits of FP have been imported into imperative languages like Python."
   ]
  },
  {
   "cell_type": "code",
   "execution_count": 4,
   "metadata": {},
   "outputs": [
    {
     "name": "stdout",
     "output_type": "stream",
     "text": [
      "Imperative:\n"
     ]
    },
    {
     "data": {
      "text/plain": [
       "[0, 1, 1, 2, 3, 5, 8, 13, 21, 34]"
      ]
     },
     "execution_count": 4,
     "metadata": {},
     "output_type": "execute_result"
    }
   ],
   "source": [
    "#Example adapted from Wikipedia's functional programming article\n",
    "#Imperative\n",
    "def fibonacci(n, first=0, second=1):\n",
    "    results = []\n",
    "    while n != 0:\n",
    "        results.append(first) #side effect\n",
    "        n, first, second = n - 1, second, first + second # assignment\n",
    "    return results\n",
    "\n",
    "fibonacci(10)"
   ]
  },
  {
   "cell_type": "code",
   "execution_count": 5,
   "metadata": {},
   "outputs": [
    {
     "name": "stdout",
     "output_type": "stream",
     "text": [
      "Functional:\n"
     ]
    },
    {
     "data": {
      "text/plain": [
       "[0, 1, 1, 2, 3, 5, 8, 13, 21, 34]"
      ]
     },
     "execution_count": 5,
     "metadata": {},
     "output_type": "execute_result"
    }
   ],
   "source": [
    "#Functional\n",
    "fibonacci = (lambda n, first=0, second=1:\n",
    "    [] if n == 0 else # base case\n",
    "    [first] + fibonacci(n - 1, second, first + second)) #recursion\n",
    "fibonacci(10)"
   ]
  },
  {
   "cell_type": "markdown",
   "metadata": {},
   "source": [
    "There are three functions available in Python which are commonly associated with FP:  `map`, `reduce`, and `filter`.  Map applies a function to every item (or set of items) in an iterable (like a list).  Reduce takes in an iterable and produces a single item as a result.  Filter takes in a predicate (function which returns `True` or `False`) and throws away all the items which evaluate to `False`.  Let's see some examples:"
   ]
  },
  {
   "cell_type": "code",
   "execution_count": 8,
   "metadata": {},
   "outputs": [
    {
     "data": {
      "text/plain": [
       "[1, 4, 9, 16, 25]"
      ]
     },
     "execution_count": 8,
     "metadata": {},
     "output_type": "execute_result"
    }
   ],
   "source": [
    "from functools import reduce\n",
    "numbers = [1,2,3,4,5]\n",
    "squared_numbers = list(map(lambda x: x ** 2, numbers))\n",
    "squared_numbers"
   ]
  },
  {
   "cell_type": "code",
   "execution_count": 10,
   "metadata": {},
   "outputs": [
    {
     "data": {
      "text/plain": [
       "[7, 9, 11, 13, 15]"
      ]
     },
     "execution_count": 10,
     "metadata": {},
     "output_type": "execute_result"
    }
   ],
   "source": [
    "more_numbers = [6,7,8,9,10]\n",
    "added_numbers = list(map(lambda x, y: x + y, numbers, more_numbers))\n",
    "added_numbers"
   ]
  },
  {
   "cell_type": "code",
   "execution_count": 13,
   "metadata": {},
   "outputs": [
    {
     "data": {
      "text/plain": [
       "[('Billy', 13), ('Bobby', 14), ('Johnny', 9)]"
      ]
     },
     "execution_count": 13,
     "metadata": {},
     "output_type": "execute_result"
    }
   ],
   "source": [
    "names = [\"Billy\", \"Bobby\", \"Johnny\"]\n",
    "ages = [13, 14, 9]\n",
    "combined = list(map(lambda x, y: (x, y), names, ages))\n",
    "combined"
   ]
  },
  {
   "cell_type": "code",
   "execution_count": 14,
   "metadata": {},
   "outputs": [
    {
     "data": {
      "text/plain": [
       "[('Billy', 13), ('Bobby', 14)]"
      ]
     },
     "execution_count": 14,
     "metadata": {},
     "output_type": "execute_result"
    }
   ],
   "source": [
    "teens = list(filter(lambda x: x[1] >= 13, combined))\n",
    "teens"
   ]
  },
  {
   "cell_type": "code",
   "execution_count": 15,
   "metadata": {},
   "outputs": [
    {
     "data": {
      "text/plain": [
       "['Billy', 'Bobby']"
      ]
     },
     "execution_count": 15,
     "metadata": {},
     "output_type": "execute_result"
    }
   ],
   "source": [
    "names_of_teens = list(map(lambda x: x[0], teens))\n",
    "names_of_teens"
   ]
  },
  {
   "cell_type": "code",
   "execution_count": 16,
   "metadata": {},
   "outputs": [
    {
     "data": {
      "text/plain": [
       "['Billy', 'Bobby']"
      ]
     },
     "execution_count": 16,
     "metadata": {},
     "output_type": "execute_result"
    }
   ],
   "source": [
    "all_in_one = list(map(lambda x: x[0], \n",
    "                      filter(lambda x: x[1] >= 13, \n",
    "                             map(lambda x, y: (x, y), names, ages))))\n",
    "all_in_one"
   ]
  },
  {
   "cell_type": "code",
   "execution_count": 17,
   "metadata": {},
   "outputs": [
    {
     "data": {
      "text/plain": [
       "['Billy', 'Bobby']"
      ]
     },
     "execution_count": 17,
     "metadata": {},
     "output_type": "execute_result"
    }
   ],
   "source": [
    "list_comp = [name for name, age in zip(names, ages) if age >= 13]\n",
    "list_comp"
   ]
  },
  {
   "cell_type": "code",
   "execution_count": 20,
   "metadata": {},
   "outputs": [
    {
     "data": {
      "text/plain": [
       "{1}"
      ]
     },
     "execution_count": 20,
     "metadata": {},
     "output_type": "execute_result"
    }
   ],
   "source": [
    "set_a = set([1,2,3,4,5])\n",
    "set_b = set([1,3,5,7,9])\n",
    "set_c = set([1,4,9,16,25])\n",
    "reduce(set.intersection, [set_a, set_b, set_c])"
   ]
  },
  {
   "cell_type": "code",
   "execution_count": 21,
   "metadata": {},
   "outputs": [
    {
     "data": {
      "text/plain": [
       "{1, 2, 3, 4, 5, 7, 9, 16, 25}"
      ]
     },
     "execution_count": 21,
     "metadata": {},
     "output_type": "execute_result"
    }
   ],
   "source": [
    "reduce(set.union, [set_a, set_b, set_c])"
   ]
  },
  {
   "cell_type": "markdown",
   "metadata": {},
   "source": [
    "As you may be able to tell from the syntax, Python isn't terribly well-suited for programming in a \"functional\" style like in the more serious FP languages like Haskell.  However, Python has many great features which are inspired by FP, such as list comprehensions, first-class functions, and lambda!\n",
    "\n",
    "If you're interested in FP but don't want to have to learn a new programming language, I found [this Python package](http://coconut-lang.org/) which adds syntax that looks *very* similar to many functional languages."
   ]
  },
  {
   "cell_type": "markdown",
   "metadata": {},
   "source": [
    "# Creating Useful Classes\n",
    "\n",
    "### Example:  DefaultDict"
   ]
  },
  {
   "cell_type": "code",
   "execution_count": 20,
   "metadata": {},
   "outputs": [
    {
     "name": "stdout",
     "output_type": "stream",
     "text": [
      "['two', 'roads', 'diverged', 'in', 'a', 'yellow', 'wood', 'and', 'sorry', 'i', 'could', 'not', 'travel', 'both', 'and', 'be', 'one', 'traveler', 'long', 'i']\n"
     ]
    }
   ],
   "source": [
    "from collections import defaultdict, Counter\n",
    "import string\n",
    "\n",
    "#Some data\n",
    "data = \"\"\"Two roads diverged in a yellow wood,\n",
    "And sorry I could not travel both\n",
    "And be one traveler, long I stood\n",
    "And looked down one as far as I could\n",
    "To where it bent in the undergrowth;\n",
    "\n",
    "Then took the other, as just as fair,\n",
    "And having perhaps the better claim,\n",
    "Because it was grassy and wanted wear;\n",
    "Though as for that the passing there\n",
    "Had worn them really about the same,\n",
    "\n",
    "And both that morning equally lay\n",
    "In leaves no step had trodden black.\n",
    "Oh, I kept the first for another day!\n",
    "Yet knowing how way leads on to way,\n",
    "I doubted if I should ever come back.\n",
    "\n",
    "I shall be telling this with a sigh\n",
    "Somewhere ages and ages hence:\n",
    "Two roads diverged in a wood, and I—\n",
    "I took the one less traveled by,\n",
    "And that has made all the difference.\"\"\"\n",
    "\n",
    "#Translator removes punctuation\n",
    "translator = str.maketrans('', '', string.punctuation + \"—\")\n",
    "data = data.translate(translator).lower().split()\n",
    "print(data[:20])"
   ]
  },
  {
   "cell_type": "code",
   "execution_count": 21,
   "metadata": {},
   "outputs": [
    {
     "name": "stdout",
     "output_type": "stream",
     "text": [
      "{'down': 1, 'took': 2, 'worn': 1, 'step': 1, 'come': 1, 'traveler': 1, 'and': 9, 'same': 1, 'sigh': 1, 'hence': 1, 'telling': 1, 'long': 1, 'i': 9, 'how': 1, 'ages': 2, 'really': 1, 'though': 1, 'ever': 1, 'knowing': 1, 'sorry': 1, 'equally': 1, 'leaves': 1, 'way': 2, 'has': 1, 'yet': 1, 'better': 1, 'claim': 1, 'on': 1, 'had': 2, 'looked': 1, 'it': 2, 'two': 2, 'one': 3, 'another': 1, 'should': 1, 'yellow': 1, 'back': 1, 'wanted': 1, 'all': 1, 'having': 1, 'then': 1, 'was': 1, 'trodden': 1, 'no': 1, 'grassy': 1, 'because': 1, 'both': 2, 'difference': 1, 'far': 1, 'shall': 1, 'morning': 1, 'there': 1, 'as': 5, 'first': 1, 'black': 1, 'traveled': 1, 'made': 1, 'less': 1, 'for': 2, 'not': 1, 'travel': 1, 'roads': 2, 'could': 2, 'just': 1, 'perhaps': 1, 'leads': 1, 'wear': 1, 'lay': 1, 'wood': 2, 'doubted': 1, 'stood': 1, 'other': 1, 'about': 1, 'be': 2, 'oh': 1, 'somewhere': 1, 'passing': 1, 'undergrowth': 1, 'where': 1, 'diverged': 2, 'fair': 1, 'this': 1, 'if': 1, 'in': 4, 'by': 1, 'that': 3, 'a': 3, 'to': 2, 'bent': 1, 'with': 1, 'kept': 1, 'day': 1, 'the': 8, 'them': 1}\n"
     ]
    }
   ],
   "source": [
    "#Let's count how many times each word appears!\n",
    "d = {}\n",
    "for item in data:\n",
    "    \n",
    "    #Must check to see if the item is already inside the dictionary, or we'll get an error\n",
    "    #If the key exists, we have seen it before and want to add 1 to the count\n",
    "    if item in d:\n",
    "        d[item] += 1\n",
    "        \n",
    "    #Otherwise, this is the first time we've seen this word\n",
    "    else:\n",
    "        d[item] = 1\n",
    "        \n",
    "print(d)"
   ]
  },
  {
   "cell_type": "code",
   "execution_count": 22,
   "metadata": {},
   "outputs": [
    {
     "name": "stdout",
     "output_type": "stream",
     "text": [
      "Counter({'and': 9, 'i': 9, 'the': 8, 'as': 5, 'in': 4, 'one': 3, 'that': 3, 'a': 3, 'took': 2, 'ages': 2, 'way': 2, 'had': 2, 'it': 2, 'two': 2, 'both': 2, 'for': 2, 'roads': 2, 'could': 2, 'wood': 2, 'be': 2, 'diverged': 2, 'to': 2, 'down': 1, 'worn': 1, 'step': 1, 'come': 1, 'traveler': 1, 'same': 1, 'sigh': 1, 'hence': 1, 'telling': 1, 'long': 1, 'how': 1, 'really': 1, 'though': 1, 'ever': 1, 'knowing': 1, 'sorry': 1, 'equally': 1, 'leaves': 1, 'has': 1, 'yet': 1, 'better': 1, 'claim': 1, 'on': 1, 'looked': 1, 'another': 1, 'should': 1, 'yellow': 1, 'back': 1, 'wanted': 1, 'all': 1, 'having': 1, 'then': 1, 'was': 1, 'trodden': 1, 'no': 1, 'grassy': 1, 'because': 1, 'difference': 1, 'far': 1, 'shall': 1, 'morning': 1, 'there': 1, 'first': 1, 'black': 1, 'traveled': 1, 'made': 1, 'less': 1, 'not': 1, 'travel': 1, 'just': 1, 'perhaps': 1, 'leads': 1, 'wear': 1, 'lay': 1, 'doubted': 1, 'stood': 1, 'other': 1, 'about': 1, 'oh': 1, 'somewhere': 1, 'passing': 1, 'undergrowth': 1, 'where': 1, 'fair': 1, 'this': 1, 'if': 1, 'by': 1, 'bent': 1, 'with': 1, 'kept': 1, 'day': 1, 'them': 1})\n"
     ]
    }
   ],
   "source": [
    "#Isn't this easier?\n",
    "c = Counter(data)\n",
    "\n",
    "#It's even sorted for us!\n",
    "print(c)"
   ]
  },
  {
   "cell_type": "code",
   "execution_count": 23,
   "metadata": {
    "collapsed": true
   },
   "outputs": [],
   "source": [
    "#We can implement this ourselves!\n",
    "class OurCounter:\n",
    "    pass"
   ]
  },
  {
   "cell_type": "code",
   "execution_count": 24,
   "metadata": {},
   "outputs": [
    {
     "name": "stdout",
     "output_type": "stream",
     "text": [
      "{'down': ['one'], 'took': ['the', 'the'], 'worn': ['them'], 'step': ['had'], 'come': ['back'], 'traveler': ['long'], 'and': ['sorry', 'be', 'looked', 'having', 'wanted', 'both', 'ages', 'i', 'that'], 'same': ['and'], 'sigh': ['somewhere'], 'hence': ['two'], 'telling': ['this'], 'long': ['i'], 'i': ['could', 'stood', 'could', 'kept', 'doubted', 'should', 'shall', 'i', 'took'], 'how': ['way'], 'ages': ['and', 'hence'], 'really': ['about'], 'though': ['as'], 'ever': ['come'], 'knowing': ['how'], 'sorry': ['i'], 'equally': ['lay'], 'leaves': ['no'], 'way': ['leads', 'i'], 'has': ['made'], 'yet': ['knowing'], 'better': ['claim'], 'claim': ['because'], 'on': ['to'], 'had': ['worn', 'trodden'], 'looked': ['down'], 'it': ['bent', 'was'], 'two': ['roads', 'roads'], 'one': ['traveler', 'as', 'less'], 'another': ['day'], 'should': ['ever'], 'yellow': ['wood'], 'back': ['i'], 'wanted': ['wear'], 'all': ['the'], 'having': ['perhaps'], 'then': ['took'], 'was': ['grassy'], 'trodden': ['black'], 'no': ['step'], 'grassy': ['and'], 'because': ['it'], 'both': ['and', 'that'], 'far': ['as'], 'shall': ['be'], 'morning': ['equally'], 'there': ['had'], 'as': ['far', 'i', 'just', 'fair', 'for'], 'first': ['for'], 'black': ['oh'], 'traveled': ['by'], 'made': ['all'], 'less': ['traveled'], 'for': ['that', 'another'], 'not': ['travel'], 'travel': ['both'], 'roads': ['diverged', 'diverged'], 'could': ['not', 'to'], 'just': ['as'], 'perhaps': ['the'], 'leads': ['on'], 'wear': ['though'], 'lay': ['in'], 'wood': ['and', 'and'], 'doubted': ['if'], 'stood': ['and'], 'other': ['as'], 'about': ['the'], 'be': ['one', 'telling'], 'oh': ['i'], 'somewhere': ['ages'], 'passing': ['there'], 'undergrowth': ['then'], 'where': ['it'], 'diverged': ['in', 'in'], 'fair': ['and'], 'this': ['with'], 'if': ['i'], 'in': ['a', 'the', 'leaves', 'a'], 'by': ['and'], 'that': ['the', 'morning', 'has'], 'a': ['yellow', 'sigh', 'wood'], 'to': ['where', 'way'], 'bent': ['in'], 'with': ['a'], 'kept': ['the'], 'day': ['yet'], 'the': ['undergrowth', 'other', 'better', 'passing', 'same', 'first', 'one', 'difference'], 'them': ['really']}\n"
     ]
    }
   ],
   "source": [
    "#Another common use case:  Let's find the words that follow other words\n",
    "d = dict()\n",
    "for i in range(len(data) - 1):\n",
    "    \n",
    "    #If we've already seen this word, then we'll add the following word to the list of words\n",
    "    if data[i] in d:\n",
    "        d[data[i]].append(data[i+1])\n",
    "        \n",
    "    #Otherwise, we need to create a new list containing just the following word\n",
    "    else:\n",
    "        d[data[i]] = [data[i+1]]\n",
    "\n",
    "#For the statistically-inclined, we've created a Markov Chain!\n",
    "print(d)"
   ]
  },
  {
   "cell_type": "code",
   "execution_count": 25,
   "metadata": {},
   "outputs": [
    {
     "name": "stdout",
     "output_type": "stream",
     "text": [
      "defaultdict(<class 'list'>, {'down': ['one'], 'took': ['the', 'the'], 'worn': ['them'], 'step': ['had'], 'come': ['back'], 'traveler': ['long'], 'and': ['sorry', 'be', 'looked', 'having', 'wanted', 'both', 'ages', 'i', 'that'], 'same': ['and'], 'sigh': ['somewhere'], 'hence': ['two'], 'telling': ['this'], 'long': ['i'], 'i': ['could', 'stood', 'could', 'kept', 'doubted', 'should', 'shall', 'i', 'took'], 'how': ['way'], 'ages': ['and', 'hence'], 'really': ['about'], 'though': ['as'], 'ever': ['come'], 'knowing': ['how'], 'sorry': ['i'], 'equally': ['lay'], 'leaves': ['no'], 'way': ['leads', 'i'], 'has': ['made'], 'yet': ['knowing'], 'better': ['claim'], 'claim': ['because'], 'on': ['to'], 'had': ['worn', 'trodden'], 'looked': ['down'], 'it': ['bent', 'was'], 'two': ['roads', 'roads'], 'one': ['traveler', 'as', 'less'], 'another': ['day'], 'should': ['ever'], 'yellow': ['wood'], 'back': ['i'], 'wanted': ['wear'], 'all': ['the'], 'having': ['perhaps'], 'then': ['took'], 'was': ['grassy'], 'trodden': ['black'], 'no': ['step'], 'grassy': ['and'], 'because': ['it'], 'both': ['and', 'that'], 'far': ['as'], 'shall': ['be'], 'morning': ['equally'], 'there': ['had'], 'as': ['far', 'i', 'just', 'fair', 'for'], 'first': ['for'], 'black': ['oh'], 'traveled': ['by'], 'made': ['all'], 'less': ['traveled'], 'for': ['that', 'another'], 'not': ['travel'], 'travel': ['both'], 'roads': ['diverged', 'diverged'], 'could': ['not', 'to'], 'just': ['as'], 'perhaps': ['the'], 'leads': ['on'], 'wear': ['though'], 'lay': ['in'], 'wood': ['and', 'and'], 'doubted': ['if'], 'stood': ['and'], 'other': ['as'], 'about': ['the'], 'be': ['one', 'telling'], 'oh': ['i'], 'somewhere': ['ages'], 'passing': ['there'], 'undergrowth': ['then'], 'where': ['it'], 'diverged': ['in', 'in'], 'fair': ['and'], 'this': ['with'], 'if': ['i'], 'in': ['a', 'the', 'leaves', 'a'], 'by': ['and'], 'that': ['the', 'morning', 'has'], 'a': ['yellow', 'sigh', 'wood'], 'to': ['where', 'way'], 'bent': ['in'], 'with': ['a'], 'kept': ['the'], 'day': ['yet'], 'the': ['undergrowth', 'other', 'better', 'passing', 'same', 'first', 'one', 'difference'], 'them': ['really']})\n"
     ]
    }
   ],
   "source": [
    "#If a non-existent key is looked up, set the value of that key to be an empty list\n",
    "d = defaultdict(list)\n",
    "\n",
    "for i in range(len(data) - 1):\n",
    "    #Using the defaultdict, we can append without worry\n",
    "    d[data[i]].append(data[i+1])\n",
    "    \n",
    "print(d)"
   ]
  },
  {
   "cell_type": "code",
   "execution_count": 27,
   "metadata": {
    "collapsed": true
   },
   "outputs": [],
   "source": [
    "#We can also implement this!\n",
    "class OurDefaultDict:\n",
    "    pass"
   ]
  },
  {
   "cell_type": "code",
   "execution_count": 29,
   "metadata": {},
   "outputs": [
    {
     "name": "stdout",
     "output_type": "stream",
     "text": [
      "two roads diverged in a yellow wood and sorry i should ever come back i took the first for another day yet knowing how way leads on to where it was grassy and both that has made all the undergrowth then took the passing there had trodden black oh i could to way i doubted if i i kept the passing there had worn them really about the first for another day yet knowing how way i doubted if i kept the one less traveled by and looked down one traveler long i could to way i could to way i kept the better claim because it was grassy and i shall be one as i i could to where it bent in a sigh somewhere ages hence two roads diverged in a yellow wood and sorry i should ever come back i should\n"
     ]
    }
   ],
   "source": [
    "from random import randint\n",
    "#Our dataset is pretty small, but let's try to resample the poem and see what it looks like\n",
    "first_word = \"two\"\n",
    "our_remix = [first_word]\n",
    "for i in range(len(data) - 1):\n",
    "    #Look up our current word and find the words which can follow it\n",
    "    next_word_choices = d[our_remix[i]]\n",
    "    \n",
    "    #Choose one of those words randomly\n",
    "    choice = next_word_choices[randint(0,len(next_word_choices) - 1)]\n",
    "    \n",
    "    #Add that word to our poem\n",
    "    our_remix.append(choice)\n",
    "\n",
    "print(\" \".join(our_remix))"
   ]
  },
  {
   "cell_type": "markdown",
   "metadata": {},
   "source": [
    "# Individual Assignment\n",
    "\n",
    "Use the code above with your own additions to create a `Remix` class which takes in a long string of text (poem, story, etc) and has a method for generating a random story using the same Markov Chain approach as above.  You should also organize the preprocessing and tokenization steps into their own methods (which should probably have a _ at the beginning of their name).  Basically, your final class should have an interface that looks somewhat like this:\n",
    "\n",
    "``` python\n",
    "atlas_remix = Remix(atlas_shrugged_string)\n",
    "atlas_remix.generate_story(words = 500)\n",
    "```"
   ]
  },
  {
   "cell_type": "code",
   "execution_count": null,
   "metadata": {
    "collapsed": true
   },
   "outputs": [],
   "source": [
    "class Remix:\n",
    "    pass"
   ]
  }
 ],
 "metadata": {
  "kernelspec": {
   "display_name": "Python [conda root]",
   "language": "python",
   "name": "conda-root-py"
  },
  "language_info": {
   "codemirror_mode": {
    "name": "ipython",
    "version": 3
   },
   "file_extension": ".py",
   "mimetype": "text/x-python",
   "name": "python",
   "nbconvert_exporter": "python",
   "pygments_lexer": "ipython3",
   "version": "3.5.4"
  }
 },
 "nbformat": 4,
 "nbformat_minor": 2
}
